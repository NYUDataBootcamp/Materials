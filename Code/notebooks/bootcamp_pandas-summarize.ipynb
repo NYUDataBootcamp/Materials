{
 "cells": [
  {
   "cell_type": "markdown",
   "metadata": {
    "collapsed": true
   },
   "source": [
    "# Pandas 5:  Summarizing data  \n",
    "\n",
    "Another in a series of notebooks that describe Pandas' powerful data management tools.  In this one we summarize our data in a variety of ways.  Which is more interesting than it sounds.  \n",
    "\n",
    "Outline:  \n",
    "\n",
    "* [WEO government debt data](#weo).  Something to work with. How does Argentina's government debt compare to the debt of other countries?  How did it compare when it defaulted in 2001?  \n",
    "* [Describing numerical data](#describe).  Descriptive statistics:  numbers of non-missing values, mean, median, quantiles.  \n",
    "* [Describing catgorical data](#value-counts). The excellent `value_counts` method.  \n",
    "* [Grouping data](#groupby).  An incredibly useful collection of tools based on grouping data based on a variable:  men and woman, grads and undergrads, and so on.  \n",
    "\n",
    "**Note: requires internet access to run.**  \n",
    "\n",
    "This Jupyter notebook was created by Dave Backus, Chase Coleman, and Spencer Lyon for the NYU Stern course [Data Bootcamp](http://databootcamp.nyuecon.com/).  "
   ]
  },
  {
   "cell_type": "markdown",
   "metadata": {},
   "source": [
    "<a id=prelims></a>"
   ]
  },
  {
   "cell_type": "markdown",
   "metadata": {},
   "source": [
    "## Preliminaries \n",
    "\n",
    "Import packages, etc.  "
   ]
  },
  {
   "cell_type": "code",
   "execution_count": null,
   "metadata": {},
   "outputs": [],
   "source": [
    "import sys                             # system module \n",
    "import pandas as pd                    # data package\n",
    "import matplotlib.pyplot as plt        # graphics module  \n",
    "import datetime as dt                  # date and time module\n",
    "import numpy as np                     # foundation for Pandas \n",
    "\n",
    "%matplotlib inline                     \n",
    "\n",
    "# check versions (overkill, but why not?)\n",
    "print('Python version:', sys.version)\n",
    "print('Pandas version: ', pd.__version__)\n",
    "print('Today: ', dt.date.today())"
   ]
  },
  {
   "cell_type": "markdown",
   "metadata": {},
   "source": [
    "<a id=weo></a>"
   ]
  },
  {
   "cell_type": "markdown",
   "metadata": {},
   "source": [
    "## WEO data on government debt \n",
    "\n",
    "We use the IMF's data on government debt again, specifically its [World Economic Outlook database](https://www.imf.org/external/ns/cs.aspx?id=28), commonly referred to as the WEO.  We focus on government debt expressed as a percentage of GDP,  variable code `GGXWDG_NGDP`.   \n",
    "\n",
    "The **central question** here is how the debt of Argentina, which defaulted in 2001, compared to other countries.  Was it a matter of too much debt or something else?  "
   ]
  },
  {
   "cell_type": "markdown",
   "metadata": {},
   "source": [
    "### Load data\n",
    "\n",
    "First step:  load the data and extract a single variable:  government debt (code `GGXWDG_NGDP`) expressed as a percentage of GDP.    "
   ]
  },
  {
   "cell_type": "code",
   "execution_count": null,
   "metadata": {},
   "outputs": [],
   "source": [
    "url1 = \"http://www.imf.org/external/pubs/ft/weo/2016/02/weodata/\"\n",
    "url2 = \"WEOOct2016all.xls\"\n",
    "url = url1 + url2 \n",
    "weo = pd.read_csv(url, sep='\\t', \n",
    "                  usecols=[1,2] + list(range(19,46)), \n",
    "                  thousands=',', \n",
    "                  na_values=['n/a', '--']) \n",
    "print('Variable dtypes:\\n', weo.dtypes.head(6), sep='')"
   ]
  },
  {
   "cell_type": "markdown",
   "metadata": {},
   "source": [
    "### Clean and shape \n",
    "\n",
    "Second step:  select the variable we want and generate the two dataframes.  "
   ]
  },
  {
   "cell_type": "code",
   "execution_count": null,
   "metadata": {
    "scrolled": true
   },
   "outputs": [],
   "source": [
    "# select debt variable \n",
    "variables = ['GGXWDG_NGDP']\n",
    "db = weo[weo['WEO Subject Code'].isin(variables)]\n",
    "\n",
    "# drop variable code column (they're all the same) \n",
    "db = db.drop('WEO Subject Code', axis=1)\n",
    "\n",
    "# set index to country code \n",
    "db = db.set_index('ISO')\n",
    "\n",
    "# name columns \n",
    "db.columns.name = 'Year'\n",
    "\n",
    "# transpose \n",
    "dbt = db.T\n",
    "\n",
    "# see what we have \n",
    "dbt.head()"
   ]
  },
  {
   "cell_type": "markdown",
   "metadata": {},
   "source": [
    "**Example.** Let's try a simple graph of the dataframe `dbt`.  The goal is to put Argentina in perspective by plotting it along with many other countries.  "
   ]
  },
  {
   "cell_type": "code",
   "execution_count": null,
   "metadata": {},
   "outputs": [],
   "source": [
    "fig, ax = plt.subplots()\n",
    "dbt.plot(ax=ax, \n",
    "         legend=False, color='blue', alpha=0.3, \n",
    "         ylim=(0,150)\n",
    "        )\n",
    "ax.set_ylabel('Percent of GDP')\n",
    "ax.set_xlabel('')\n",
    "ax.set_title('Government debt', fontsize=14, loc='left')\n",
    "dbt['ARG'].plot(ax=ax, color='black', linewidth=1.5)"
   ]
  },
  {
   "cell_type": "markdown",
   "metadata": {},
   "source": [
    "**Exercise.** \n",
    "\n",
    "* What do you take away from this graph?  \n",
    "* What would you change to make it look better?\n",
    "* To make it mnore informative?\n",
    "* To put Argentina's debt in context?  "
   ]
  },
  {
   "cell_type": "code",
   "execution_count": null,
   "metadata": {},
   "outputs": [],
   "source": []
  },
  {
   "cell_type": "markdown",
   "metadata": {},
   "source": [
    "**Exercise.** Do the same graph with Greece (GRC) as the country of interest.  How does it differ?  Why do you think that is?  "
   ]
  },
  {
   "cell_type": "code",
   "execution_count": null,
   "metadata": {},
   "outputs": [],
   "source": []
  },
  {
   "cell_type": "markdown",
   "metadata": {},
   "source": [
    "<a id=describe></a>"
   ]
  },
  {
   "cell_type": "markdown",
   "metadata": {},
   "source": [
    "## Describing numerical data \n",
    "\n",
    "Let's step back a minute.  What we're trying to do is compare Argentina to other countries.  What's the best way to do that?  This isn't a question with an obvious best answer, but we can try some things, see how they look.  One thing we could do is compare Argentina to the mean or median.  Or to some other feature of the distribution.  \n",
    "\n",
    "We work up to this by looking first at some features of the distribution of government debt numbers across countries.  Some of this we've seen, some is new.  "
   ]
  },
  {
   "cell_type": "markdown",
   "metadata": {},
   "source": [
    "### What's (not) there?\n",
    "\n",
    "Let's check out the data first.  How many non-missing values do we have at each date?   We can do that with the `count` method. The argument `axis=1` says to do this by date, counting across columns (axis number 1).  "
   ]
  },
  {
   "cell_type": "code",
   "execution_count": null,
   "metadata": {},
   "outputs": [],
   "source": [
    "dbt.shape"
   ]
  },
  {
   "cell_type": "code",
   "execution_count": null,
   "metadata": {},
   "outputs": [],
   "source": [
    "# count non-missing values \n",
    "dbt.count(axis=1).plot()"
   ]
  },
  {
   "cell_type": "code",
   "execution_count": null,
   "metadata": {},
   "outputs": [],
   "source": []
  },
  {
   "cell_type": "markdown",
   "metadata": {},
   "source": [
    "### Describing series \n",
    "\n",
    "Let's take the data for 2001 -- the year of Argentina's default -- and see what how Argentina compares.  Was its debt high compare to other countries?  \n",
    "\n",
    "which leads to more questions.  How would we compare?  Compare Argentina to the mean or median?  Something else?  \n",
    "\n",
    "Let's see how that works.  "
   ]
  },
  {
   "cell_type": "code",
   "execution_count": null,
   "metadata": {},
   "outputs": [],
   "source": [
    "# 2001 data \n",
    "db01 = db['2001'] "
   ]
  },
  {
   "cell_type": "code",
   "execution_count": null,
   "metadata": {},
   "outputs": [],
   "source": [
    "db01['ARG']"
   ]
  },
  {
   "cell_type": "code",
   "execution_count": null,
   "metadata": {},
   "outputs": [],
   "source": [
    "db01.mean()"
   ]
  },
  {
   "cell_type": "code",
   "execution_count": null,
   "metadata": {},
   "outputs": [],
   "source": [
    "db01.median()"
   ]
  },
  {
   "cell_type": "code",
   "execution_count": null,
   "metadata": {},
   "outputs": [],
   "source": [
    "db01.describe()"
   ]
  },
  {
   "cell_type": "code",
   "execution_count": null,
   "metadata": {},
   "outputs": [],
   "source": [
    "db01.quantile(q=[0.25, 0.5, 0.75])"
   ]
  },
  {
   "cell_type": "code",
   "execution_count": null,
   "metadata": {},
   "outputs": [],
   "source": []
  },
  {
   "cell_type": "markdown",
   "metadata": {},
   "source": [
    "**Comment.** If we add enough quantiles, we might as well plot the whole distribution.  The easiest way to do this is with a histogram.  "
   ]
  },
  {
   "cell_type": "code",
   "execution_count": null,
   "metadata": {},
   "outputs": [],
   "source": [
    "fig, ax = plt.subplots()\n",
    "db01.hist(bins=15, ax=ax, alpha=0.35)\n",
    "ax.set_xlabel('Government Debt (Percent of GDP)')\n",
    "ax.set_ylabel('Number of Countries')\n",
    "\n",
    "ymin, ymax = ax.get_ylim()\n",
    "ax.vlines(db01['ARG'], ymin, ymax, color='blue', lw=2) "
   ]
  },
  {
   "cell_type": "markdown",
   "metadata": {
    "collapsed": true
   },
   "source": [
    "**Comment** Compared to the whole sample of countries in 2001, it doesn't seem that Argentina had particularly high debt."
   ]
  },
  {
   "cell_type": "code",
   "execution_count": null,
   "metadata": {},
   "outputs": [],
   "source": []
  },
  {
   "cell_type": "code",
   "execution_count": null,
   "metadata": {},
   "outputs": [],
   "source": []
  },
  {
   "cell_type": "markdown",
   "metadata": {},
   "source": [
    "### Describing dataframes\n",
    "\n",
    "We can compute the same statistics for dataframes.  Here we hve a choice:  we can compute (say) the mean down rows (`axis=0`) or across columns (`axis=1`).  If we use the dataframe `dbt`, computing the mean across countries (columns) calls for `axis=1`."
   ]
  },
  {
   "cell_type": "code",
   "execution_count": null,
   "metadata": {},
   "outputs": [],
   "source": [
    "# here we compute the mean across countries at every date\n",
    "dbt.mean(axis=1).head()"
   ]
  },
  {
   "cell_type": "code",
   "execution_count": null,
   "metadata": {},
   "outputs": [],
   "source": [
    "# or we could do the median\n",
    "dbt.median(axis=1).head()"
   ]
  },
  {
   "cell_type": "code",
   "execution_count": null,
   "metadata": {},
   "outputs": [],
   "source": [
    "# or a bunch of stats at once \n",
    "# NB:  db not dbt (there's no axix argument here)\n",
    "db.describe()"
   ]
  },
  {
   "cell_type": "code",
   "execution_count": null,
   "metadata": {},
   "outputs": [],
   "source": [
    "# the other way \n",
    "dbt.describe()"
   ]
  },
  {
   "cell_type": "code",
   "execution_count": null,
   "metadata": {},
   "outputs": [],
   "source": []
  },
  {
   "cell_type": "code",
   "execution_count": null,
   "metadata": {},
   "outputs": [],
   "source": []
  },
  {
   "cell_type": "markdown",
   "metadata": {
    "collapsed": true
   },
   "source": [
    "**Example.** Let's add the mean to our graph.  We make it a dashed line with `linestyle='dashed'`.  "
   ]
  },
  {
   "cell_type": "code",
   "execution_count": null,
   "metadata": {},
   "outputs": [],
   "source": [
    "fig, ax = plt.subplots()\n",
    "dbt.plot(ax=ax, \n",
    "         legend=False, color='blue', alpha=0.2, \n",
    "         ylim=(0,200)\n",
    "        )\n",
    "dbt['ARG'].plot(ax=ax, color='black', linewidth=1.5)\n",
    "ax.set_ylabel('Percent of GDP')\n",
    "ax.set_xlabel('')\n",
    "ax.set_title('Government debt', fontsize=14, loc='left')\n",
    "dbt.mean(axis=1).plot(ax=ax, color='black', linewidth=2, linestyle='dashed')"
   ]
  },
  {
   "cell_type": "markdown",
   "metadata": {},
   "source": [
    "**Question.** Do you think this looks better when the mean varies with time, or when we use a constant mean?  Let's try it and see.  "
   ]
  },
  {
   "cell_type": "code",
   "execution_count": null,
   "metadata": {},
   "outputs": [],
   "source": [
    "dbar = dbt.mean().mean()\n",
    "dbar"
   ]
  },
  {
   "cell_type": "code",
   "execution_count": null,
   "metadata": {},
   "outputs": [],
   "source": [
    "fig, ax = plt.subplots()\n",
    "dbt.plot(ax=ax, \n",
    "         legend=False, color='blue', alpha=0.3, \n",
    "         ylim=(0,150)\n",
    "        )\n",
    "dbt['ARG'].plot(ax=ax, color='black', linewidth=1.5)\n",
    "ax.set_ylabel('Percent of GDP')\n",
    "ax.set_xlabel('')\n",
    "ax.set_title('Government debt', fontsize=14, loc='left') \n",
    "xmin, xmax = ax.get_xlim()\n",
    "ax.hlines(dbar, xmin, xmax, linewidth=2, linestyle='dashed')"
   ]
  },
  {
   "cell_type": "markdown",
   "metadata": {},
   "source": [
    "**Exercise.** Which do we like better?\n",
    "\n",
    "**Exercise.** Replace the (constant) mean with the (constant) median?  Which do you prefer?  "
   ]
  },
  {
   "cell_type": "code",
   "execution_count": null,
   "metadata": {},
   "outputs": [],
   "source": []
  },
  {
   "cell_type": "markdown",
   "metadata": {
    "collapsed": true
   },
   "source": [
    "<a id=value-counts></a>"
   ]
  },
  {
   "cell_type": "markdown",
   "metadata": {
    "collapsed": true
   },
   "source": [
    "## Describing categorical data \n",
    "\n",
    "A **categorical variable** is one that takes on a small number of values.  States take on one of fifty values.  University students are either grad or undergrad.  Students select majors and concentrations.  \n",
    "\n",
    "We're going to do two things with categorical data:  \n",
    "\n",
    "* In this section, we count the number of observations in each category using the `value_counts` method. This is a series method, we apply it to one series/variable at a time.   \n",
    "* In the next section, we go on to describe how other variables differ across catagories.  How do students who major in finance differ from those who major in English?  And so on.  \n",
    "\n",
    "We start with the combined MovieLens data we constructed in the previous notebook.  "
   ]
  },
  {
   "cell_type": "code",
   "execution_count": null,
   "metadata": {},
   "outputs": [],
   "source": [
    "url = 'http://pages.stern.nyu.edu/~dbackus/Data/mlcombined.csv'\n",
    "ml  = pd.read_csv(url, index_col=0,encoding = \"ISO-8859-1\")\n",
    "print('Dimensions:', ml.shape)\n",
    "\n",
    "# fix up the dates\n",
    "ml[\"timestamp\"] = pd.to_datetime(ml[\"timestamp\"], unit=\"s\")\n",
    "ml.head(10)"
   ]
  },
  {
   "cell_type": "code",
   "execution_count": null,
   "metadata": {},
   "outputs": [],
   "source": [
    "# which movies have the most ratings? \n",
    "ml['title'].value_counts().head(10)"
   ]
  },
  {
   "cell_type": "code",
   "execution_count": null,
   "metadata": {},
   "outputs": [],
   "source": [
    "ml['title'].value_counts().head(10).plot.barh(alpha=0.5)"
   ]
  },
  {
   "cell_type": "code",
   "execution_count": null,
   "metadata": {},
   "outputs": [],
   "source": [
    "# which people have rated the most movies?\n",
    "ml['userId'].value_counts().head(10)"
   ]
  },
  {
   "cell_type": "code",
   "execution_count": null,
   "metadata": {},
   "outputs": [],
   "source": []
  },
  {
   "cell_type": "markdown",
   "metadata": {
    "collapsed": true
   },
   "source": [
    "<a id=groupby></a>"
   ]
  },
  {
   "cell_type": "markdown",
   "metadata": {
    "collapsed": true
   },
   "source": [
    "## Grouping data \n",
    "\n",
    "Next up:  group data by some variable.  As an example, how would we compute the average rating of each movie?  If you think for a minute, you might think of these steps:\n",
    "\n",
    "* Group the data by movie:  Put all the \"Pulp Fiction\" ratings in one bin, all the \"Shawshank\" ratings in another.  We do that with the `groupby` method. \n",
    "* Compute a statistic (the mean, for example) for each group.  \n",
    "\n",
    "Pandas has tools that make that relatively easy.  "
   ]
  },
  {
   "cell_type": "code",
   "execution_count": null,
   "metadata": {},
   "outputs": [],
   "source": [
    "# group \n",
    "g = ml[['title', 'rating']].groupby('title')\n",
    "type(g)"
   ]
  },
  {
   "cell_type": "code",
   "execution_count": null,
   "metadata": {},
   "outputs": [],
   "source": []
  },
  {
   "cell_type": "markdown",
   "metadata": {},
   "source": [
    "Now that we have a groupby object, what can we do with it?  "
   ]
  },
  {
   "cell_type": "code",
   "execution_count": null,
   "metadata": {},
   "outputs": [],
   "source": [
    "# the number in each category\n",
    "g.count().head(10)"
   ]
  },
  {
   "cell_type": "code",
   "execution_count": null,
   "metadata": {},
   "outputs": [],
   "source": [
    "# what type of object have we created?\n",
    "type(g.count())"
   ]
  },
  {
   "cell_type": "code",
   "execution_count": null,
   "metadata": {},
   "outputs": [],
   "source": []
  },
  {
   "cell_type": "markdown",
   "metadata": {},
   "source": [
    "**Comment.** Note that the combination of `groupby` and `count` created a dataframe with\n",
    "\n",
    "* Its index is the variable we grouped by.  If we group by more than one, we get a multi-index.\n",
    "* Its columns are the other variables.  \n",
    "\n",
    "**Exercise.**  Take the code \n",
    "\n",
    "```python\n",
    "counts = ml.groupby(['title', 'movieId'])\n",
    "```\n",
    "\n",
    "Without running it, what is the index of `counts`?  What are its columns?  "
   ]
  },
  {
   "cell_type": "code",
   "execution_count": null,
   "metadata": {},
   "outputs": [],
   "source": [
    "counts = ml.groupby(['title', 'movieId']).count()"
   ]
  },
  {
   "cell_type": "code",
   "execution_count": null,
   "metadata": {},
   "outputs": [],
   "source": [
    "gm = g.mean()\n",
    "gm.head()"
   ]
  },
  {
   "cell_type": "code",
   "execution_count": null,
   "metadata": {},
   "outputs": [],
   "source": []
  },
  {
   "cell_type": "code",
   "execution_count": null,
   "metadata": {},
   "outputs": [],
   "source": [
    "# we can put them together \n",
    "grouped = g.count()\n",
    "grouped = grouped.rename(columns={'rating': 'Number'})\n",
    "grouped['Mean'] = g.mean()\n",
    "grouped.head(10)"
   ]
  },
  {
   "cell_type": "code",
   "execution_count": null,
   "metadata": {},
   "outputs": [],
   "source": []
  },
  {
   "cell_type": "code",
   "execution_count": null,
   "metadata": {},
   "outputs": [],
   "source": [
    "grouped.plot.scatter(x='Number', y='Mean')"
   ]
  },
  {
   "cell_type": "code",
   "execution_count": null,
   "metadata": {},
   "outputs": [],
   "source": []
  },
  {
   "cell_type": "markdown",
   "metadata": {},
   "source": [
    "**Exercise.** Compute the median and add it to the dataframe.  "
   ]
  },
  {
   "cell_type": "code",
   "execution_count": null,
   "metadata": {},
   "outputs": [],
   "source": []
  },
  {
   "cell_type": "code",
   "execution_count": null,
   "metadata": {},
   "outputs": [],
   "source": []
  },
  {
   "cell_type": "markdown",
   "metadata": {},
   "source": [
    "## Resources\n",
    "\n",
    "The [Brandon Rhodes video](https://youtu.be/5JnMutdy6Fw) covers most of this, too.  "
   ]
  },
  {
   "cell_type": "code",
   "execution_count": null,
   "metadata": {},
   "outputs": [],
   "source": []
  }
 ],
 "metadata": {
  "anaconda-cloud": {},
  "kernelspec": {
   "display_name": "Python 3",
   "language": "python",
   "name": "python3"
  },
  "language_info": {
   "codemirror_mode": {
    "name": "ipython",
    "version": 3
   },
   "file_extension": ".py",
   "mimetype": "text/x-python",
   "name": "python",
   "nbconvert_exporter": "python",
   "pygments_lexer": "ipython3",
   "version": "3.6.4"
  }
 },
 "nbformat": 4,
 "nbformat_minor": 1
}
